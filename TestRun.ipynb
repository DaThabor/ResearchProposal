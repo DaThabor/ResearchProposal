{
  "nbformat": 4,
  "nbformat_minor": 0,
  "metadata": {
    "colab": {
      "name": "TestRun.ipynb",
      "provenance": [],
      "collapsed_sections": [],
      "toc_visible": true,
      "authorship_tag": "ABX9TyPVhHG5NmVR9RJHbBe4cwpc",
      "include_colab_link": true
    },
    "kernelspec": {
      "name": "python3",
      "display_name": "Python 3"
    }
  },
  "cells": [
    {
      "cell_type": "markdown",
      "metadata": {
        "id": "view-in-github",
        "colab_type": "text"
      },
      "source": [
        "<a href=\"https://colab.research.google.com/github/DaThabor/ResearchProposal/blob/master/TestRun.ipynb\" target=\"_parent\"><img src=\"https://colab.research.google.com/assets/colab-badge.svg\" alt=\"Open In Colab\"/></a>"
      ]
    },
    {
      "cell_type": "markdown",
      "metadata": {
        "id": "_gvU3l1MWVMF",
        "colab_type": "text"
      },
      "source": [
        "# Load, Transform and Prepare Data Set for Final Modelling for Master Thesis\n",
        "January 2020\n",
        "Thabor Walbeek"
      ]
    },
    {
      "cell_type": "markdown",
      "metadata": {
        "id": "EHz1UXyOWg3K",
        "colab_type": "text"
      },
      "source": [
        "# Prepare Environment"
      ]
    },
    {
      "cell_type": "code",
      "metadata": {
        "id": "F9u__8tQUliH",
        "colab_type": "code",
        "outputId": "95b03a43-029d-4098-c05a-d914bd0471f3",
        "colab": {
          "base_uri": "https://localhost:8080/",
          "height": 140
        }
      },
      "source": [
        "print(\"---Start of reading python notebook\")\n",
        "print(\"---Start preparing of the environment\")\n",
        "\n",
        "# Importing the packages\n",
        "import numpy as np\n",
        "import matplotlib.pyplot as plt\n",
        "import pandas as pd\n",
        "import sklearn\n",
        "import seaborn as sns\n",
        "from scipy import stats\n",
        "from pandas import Series \n",
        "from numpy import array\n",
        "from matplotlib import pyplot \n",
        "from sklearn.preprocessing import MinMaxScaler\n",
        "from keras.models import Sequential \n",
        "from keras.layers import LSTM \n",
        "from keras.layers import Dense, Dropout, Activation, Bidirectional\n",
        "from keras.layers import RepeatVector\n",
        "from keras.layers import TimeDistributed\n",
        "from keras.layers import CuDNNLSTM\n",
        "from keras.models import load_model\n",
        "print(\"---End preparing of environment\")"
      ],
      "execution_count": 0,
      "outputs": [
        {
          "output_type": "stream",
          "text": [
            "---Start of reading python notebook\n",
            "---Start preparing of the environment\n"
          ],
          "name": "stdout"
        },
        {
          "output_type": "stream",
          "text": [
            "Using TensorFlow backend.\n"
          ],
          "name": "stderr"
        },
        {
          "output_type": "display_data",
          "data": {
            "text/html": [
              "<p style=\"color: red;\">\n",
              "The default version of TensorFlow in Colab will soon switch to TensorFlow 2.x.<br>\n",
              "We recommend you <a href=\"https://www.tensorflow.org/guide/migrate\" target=\"_blank\">upgrade</a> now \n",
              "or ensure your notebook will continue to use TensorFlow 1.x via the <code>%tensorflow_version 1.x</code> magic:\n",
              "<a href=\"https://colab.research.google.com/notebooks/tensorflow_version.ipynb\" target=\"_blank\">more info</a>.</p>\n"
            ],
            "text/plain": [
              "<IPython.core.display.HTML object>"
            ]
          },
          "metadata": {
            "tags": []
          }
        },
        {
          "output_type": "stream",
          "text": [
            "---End preparing of environment\n"
          ],
          "name": "stdout"
        }
      ]
    },
    {
      "cell_type": "markdown",
      "metadata": {
        "id": "aAXC0hTrWrqC",
        "colab_type": "text"
      },
      "source": [
        "# Get Data"
      ]
    },
    {
      "cell_type": "code",
      "metadata": {
        "id": "QaWuuCSXWuvi",
        "colab_type": "code",
        "outputId": "ac4e6175-6b14-46e0-d1c2-5ecf2e11dd31",
        "colab": {
          "base_uri": "https://localhost:8080/",
          "height": 55
        }
      },
      "source": [
        "# Get the full data set\n",
        "print(\"---Start getting the data\")\n",
        "data = pd.read_excel(\"/content/drive/My Drive/FinalSetCombined.xlsx\")\n",
        "print(\"---Data retrieved\")"
      ],
      "execution_count": 0,
      "outputs": [
        {
          "output_type": "stream",
          "text": [
            "---Start getting the data\n",
            "---Data retrieved\n"
          ],
          "name": "stdout"
        }
      ]
    },
    {
      "cell_type": "code",
      "metadata": {
        "id": "FgIv9hc4rfBk",
        "colab_type": "code",
        "outputId": "ca10da38-945d-4021-dfa4-ecf9f273e027",
        "colab": {
          "base_uri": "https://localhost:8080/",
          "height": 131
        }
      },
      "source": [
        "from google.colab import drive\n",
        "drive.mount('/content/drive')"
      ],
      "execution_count": 0,
      "outputs": [
        {
          "output_type": "stream",
          "text": [
            "Go to this URL in a browser: https://accounts.google.com/o/oauth2/auth?client_id=947318989803-6bn6qk8qdgf4n4g3pfee6491hc0brc4i.apps.googleusercontent.com&redirect_uri=urn%3aietf%3awg%3aoauth%3a2.0%3aoob&response_type=code&scope=email%20https%3a%2f%2fwww.googleapis.com%2fauth%2fdocs.test%20https%3a%2f%2fwww.googleapis.com%2fauth%2fdrive%20https%3a%2f%2fwww.googleapis.com%2fauth%2fdrive.photos.readonly%20https%3a%2f%2fwww.googleapis.com%2fauth%2fpeopleapi.readonly\n",
            "\n",
            "Enter your authorization code:\n",
            "··········\n",
            "Mounted at /content/drive\n"
          ],
          "name": "stdout"
        }
      ]
    },
    {
      "cell_type": "markdown",
      "metadata": {
        "id": "1CjwItKbXNvc",
        "colab_type": "text"
      },
      "source": [
        "# Clean Data"
      ]
    },
    {
      "cell_type": "code",
      "metadata": {
        "id": "RScbh3t4XLoj",
        "colab_type": "code",
        "outputId": "7a3ddacd-b7fb-402a-ce93-72dd9aa71f4d",
        "colab": {
          "base_uri": "https://localhost:8080/",
          "height": 73
        }
      },
      "source": [
        "print(\"---Start cleaning the data\")\n",
        "print(\"---Set normalization parameters\")\n",
        "## Remove first column with ID values\n",
        "dataclean = pd.DataFrame(data[data.columns[1:21]])\n",
        "# Check for the minimum and maximum values in the data set\n",
        "minvalue = min(dataclean.min())\n",
        "maxvalue = max(dataclean.max())\n",
        "denominator = maxvalue - minvalue\n",
        "\n",
        "# Set rounding parameter\n",
        "rounding = 3\n",
        "denominator = round(denominator,rounding)\n",
        "print(\"---Normalization preparation is done\")"
      ],
      "execution_count": 0,
      "outputs": [
        {
          "output_type": "stream",
          "text": [
            "---Start cleaning the data\n",
            "---Set normalization parameters\n",
            "---Normalization preparation is done\n"
          ],
          "name": "stdout"
        }
      ]
    },
    {
      "cell_type": "code",
      "metadata": {
        "id": "irHEdGLCX-87",
        "colab_type": "code",
        "outputId": "0ee0c6f3-563f-4f15-b12f-7c5571786c23",
        "colab": {
          "base_uri": "https://localhost:8080/",
          "height": 92
        }
      },
      "source": [
        "print(\"---Start normalization\")\n",
        "# Normalize the data based on the denominator value\n",
        "length = len(dataclean)\n",
        "normdata = pd.DataFrame(index=range(0,length),columns=range(0,21), dtype='float')\n",
        "\n",
        "for i in range(0,length,1):\n",
        "    if i in dataclean.index:\n",
        "      for j in range(0,21,1):\n",
        "        locdata = dataclean.loc[i][j-1]\n",
        "        normalized = (locdata - minvalue) / denominator\n",
        "        normalized = getattr(normalized, \"tolist\", lambda: normalized)()\n",
        "        normdata.loc[i][j] = normalized\n",
        "    else:\n",
        "      pass\n",
        "\n",
        "## Remove first column with ID values\n",
        "normdata = pd.DataFrame(normdata[normdata.columns[1:21]])\n",
        "\n",
        "print(\"---End normalization\")\n",
        "print(\"---Data is clean\")\n",
        "print(\"---Notebook done\")"
      ],
      "execution_count": 0,
      "outputs": [
        {
          "output_type": "stream",
          "text": [
            "---Start normalization\n",
            "---End normalization\n",
            "---Data is clean\n",
            "---Notebook done\n"
          ],
          "name": "stdout"
        }
      ]
    },
    {
      "cell_type": "code",
      "metadata": {
        "id": "PZp8y0Ycr3iy",
        "colab_type": "code",
        "outputId": "ec253af0-a871-4979-cdab-55c6cae84b76",
        "colab": {
          "base_uri": "https://localhost:8080/",
          "height": 284
        }
      },
      "source": [
        "normdata.boxplot()"
      ],
      "execution_count": 0,
      "outputs": [
        {
          "output_type": "execute_result",
          "data": {
            "text/plain": [
              "<matplotlib.axes._subplots.AxesSubplot at 0x7f38b7cb9470>"
            ]
          },
          "metadata": {
            "tags": []
          },
          "execution_count": 7
        },
        {
          "output_type": "display_data",
          "data": {
            "image/png": "[encoded data removed]",
            "text/plain": [
              "<Figure size 432x288 with 1 Axes>"
            ]
          },
          "metadata": {
            "tags": []
          }
        }
      ]
    }
  ]
}